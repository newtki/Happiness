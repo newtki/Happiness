{
 "cells": [
  {
   "cell_type": "markdown",
   "metadata": {},
   "source": [
    "# World Happiness Analysis"
   ]
  },
  {
   "cell_type": "code",
   "execution_count": 1,
   "metadata": {},
   "outputs": [],
   "source": [
    "import numpy as np\n",
    "import pandas as pd\n",
    "import matplotlib.pyplot as plt\n",
    "import seaborn as sns"
   ]
  },
  {
   "cell_type": "markdown",
   "metadata": {},
   "source": [
    "###### Concatenating data "
   ]
  },
  {
   "cell_type": "code",
   "execution_count": 2,
   "metadata": {},
   "outputs": [],
   "source": [
    "d15 = pd.read_csv(r\"C:\\Users\\Newton\\Desktop\\DATA\\Happy\\2015.csv\")\n",
    "d16 = pd.read_csv(r\"C:\\Users\\Newton\\Desktop\\DATA\\Happy\\2016.csv\")\n",
    "d17 = pd.read_csv(r\"C:\\Users\\Newton\\Desktop\\DATA\\Happy\\2017.csv\")\n",
    "d18 = pd.read_csv(r\"C:\\Users\\Newton\\Desktop\\DATA\\Happy\\2018.csv\")\n",
    "d19 = pd.read_csv(r\"C:\\Users\\Newton\\Desktop\\DATA\\Happy\\2019.csv\")"
   ]
  },
  {
   "cell_type": "markdown",
   "metadata": {},
   "source": [
    "######  Fitting data to new columns"
   ]
  },
  {
   "cell_type": "code",
   "execution_count": 3,
   "metadata": {},
   "outputs": [],
   "source": [
    "d15 = d15[['Country','Happiness Rank', 'Happiness Score', 'Economy (GDP per Capita)', 'Family','Health (Life Expectancy)', 'Freedom', 'Generosity', 'Trust (Government Corruption)']]\n",
    "d16 = d16[['Country','Happiness Rank', 'Happiness Score', 'Economy (GDP per Capita)', 'Family','Health (Life Expectancy)', 'Freedom', 'Generosity', 'Trust (Government Corruption)']]\n",
    "d17 = d17[['Country', 'Happiness.Rank', 'Happiness.Score', 'Economy..GDP.per.Capita.', 'Family','Health..Life.Expectancy.', 'Freedom', 'Generosity', 'Trust..Government.Corruption.']]\n",
    "d18 = d18[['Country or region','Overall rank','Score','GDP per capita','Social support','Healthy life expectancy','Freedom to make life choices','Generosity','Perceptions of corruption']]\n",
    "d19 = d19[['Country or region','Overall rank','Score','GDP per capita','Social support','Healthy life expectancy','Freedom to make life choices','Generosity','Perceptions of corruption']]"
   ]
  },
  {
   "cell_type": "code",
   "execution_count": 4,
   "metadata": {},
   "outputs": [],
   "source": [
    "newcoln = ['Country', 'Happiness Rank', 'Happiness Score', 'GDP per Capita', 'Family','Life Expectancy', 'Freedom', 'Generosity', 'Perceptions of corruption']"
   ]
  },
  {
   "cell_type": "code",
   "execution_count": 5,
   "metadata": {},
   "outputs": [],
   "source": [
    "d15.columns = newcoln\n",
    "d16.columns = newcoln\n",
    "d17.columns = newcoln\n",
    "d18.columns = newcoln\n",
    "d19.columns = newcoln"
   ]
  },
  {
   "cell_type": "markdown",
   "metadata": {},
   "source": [
    "###### Assigning years "
   ]
  },
  {
   "cell_type": "code",
   "execution_count": 6,
   "metadata": {},
   "outputs": [],
   "source": [
    "d15['Year']=2015\n",
    "d16['Year']=2016\n",
    "d17['Year']=2017\n",
    "d18['Year']=2018\n",
    "d19['Year']=2019"
   ]
  },
  {
   "cell_type": "code",
   "execution_count": 7,
   "metadata": {
    "scrolled": true
   },
   "outputs": [],
   "source": [
    "df = pd.concat([d15, d16, d17, d18, d19], axis=0)"
   ]
  },
  {
   "cell_type": "markdown",
   "metadata": {},
   "source": [
    "###### Dropping missing data."
   ]
  },
  {
   "cell_type": "code",
   "execution_count": 8,
   "metadata": {},
   "outputs": [
    {
     "data": {
      "text/html": [
       "<div>\n",
       "<style scoped>\n",
       "    .dataframe tbody tr th:only-of-type {\n",
       "        vertical-align: middle;\n",
       "    }\n",
       "\n",
       "    .dataframe tbody tr th {\n",
       "        vertical-align: top;\n",
       "    }\n",
       "\n",
       "    .dataframe thead th {\n",
       "        text-align: right;\n",
       "    }\n",
       "</style>\n",
       "<table border=\"1\" class=\"dataframe\">\n",
       "  <thead>\n",
       "    <tr style=\"text-align: right;\">\n",
       "      <th></th>\n",
       "      <th>Country</th>\n",
       "      <th>Happiness Rank</th>\n",
       "      <th>Happiness Score</th>\n",
       "      <th>GDP per Capita</th>\n",
       "      <th>Family</th>\n",
       "      <th>Life Expectancy</th>\n",
       "      <th>Freedom</th>\n",
       "      <th>Generosity</th>\n",
       "      <th>Perceptions of corruption</th>\n",
       "      <th>Year</th>\n",
       "    </tr>\n",
       "  </thead>\n",
       "  <tbody>\n",
       "    <tr>\n",
       "      <th>19</th>\n",
       "      <td>United Arab Emirates</td>\n",
       "      <td>20</td>\n",
       "      <td>6.774</td>\n",
       "      <td>2.096</td>\n",
       "      <td>0.776</td>\n",
       "      <td>0.67</td>\n",
       "      <td>0.284</td>\n",
       "      <td>0.186</td>\n",
       "      <td>NaN</td>\n",
       "      <td>2018</td>\n",
       "    </tr>\n",
       "  </tbody>\n",
       "</table>\n",
       "</div>"
      ],
      "text/plain": [
       "                 Country  Happiness Rank  Happiness Score  GDP per Capita  \\\n",
       "19  United Arab Emirates              20            6.774           2.096   \n",
       "\n",
       "    Family  Life Expectancy  Freedom  Generosity  Perceptions of corruption  \\\n",
       "19   0.776             0.67    0.284       0.186                        NaN   \n",
       "\n",
       "    Year  \n",
       "19  2018  "
      ]
     },
     "execution_count": 8,
     "metadata": {},
     "output_type": "execute_result"
    }
   ],
   "source": [
    "df[df.isnull().any(axis=1)]"
   ]
  },
  {
   "cell_type": "code",
   "execution_count": 9,
   "metadata": {},
   "outputs": [],
   "source": [
    "df.dropna(axis = 0, inplace = True)"
   ]
  },
  {
   "cell_type": "code",
   "execution_count": 10,
   "metadata": {},
   "outputs": [
    {
     "data": {
      "text/html": [
       "<div>\n",
       "<style scoped>\n",
       "    .dataframe tbody tr th:only-of-type {\n",
       "        vertical-align: middle;\n",
       "    }\n",
       "\n",
       "    .dataframe tbody tr th {\n",
       "        vertical-align: top;\n",
       "    }\n",
       "\n",
       "    .dataframe thead th {\n",
       "        text-align: right;\n",
       "    }\n",
       "</style>\n",
       "<table border=\"1\" class=\"dataframe\">\n",
       "  <thead>\n",
       "    <tr style=\"text-align: right;\">\n",
       "      <th></th>\n",
       "      <th>Country</th>\n",
       "      <th>Happiness Rank</th>\n",
       "      <th>Happiness Score</th>\n",
       "      <th>GDP per Capita</th>\n",
       "      <th>Family</th>\n",
       "      <th>Life Expectancy</th>\n",
       "      <th>Freedom</th>\n",
       "      <th>Generosity</th>\n",
       "      <th>Perceptions of corruption</th>\n",
       "      <th>Year</th>\n",
       "    </tr>\n",
       "  </thead>\n",
       "  <tbody>\n",
       "  </tbody>\n",
       "</table>\n",
       "</div>"
      ],
      "text/plain": [
       "Empty DataFrame\n",
       "Columns: [Country, Happiness Rank, Happiness Score, GDP per Capita, Family, Life Expectancy, Freedom, Generosity, Perceptions of corruption, Year]\n",
       "Index: []"
      ]
     },
     "execution_count": 10,
     "metadata": {},
     "output_type": "execute_result"
    }
   ],
   "source": [
    "df[df.isnull().any(axis=1)]"
   ]
  },
  {
   "cell_type": "markdown",
   "metadata": {},
   "source": [
    "# Data Exploration"
   ]
  },
  {
   "cell_type": "code",
   "execution_count": 11,
   "metadata": {},
   "outputs": [
    {
     "data": {
      "text/html": [
       "<div>\n",
       "<style scoped>\n",
       "    .dataframe tbody tr th:only-of-type {\n",
       "        vertical-align: middle;\n",
       "    }\n",
       "\n",
       "    .dataframe tbody tr th {\n",
       "        vertical-align: top;\n",
       "    }\n",
       "\n",
       "    .dataframe thead th {\n",
       "        text-align: right;\n",
       "    }\n",
       "</style>\n",
       "<table border=\"1\" class=\"dataframe\">\n",
       "  <thead>\n",
       "    <tr style=\"text-align: right;\">\n",
       "      <th></th>\n",
       "      <th>Country</th>\n",
       "      <th>Happiness Rank</th>\n",
       "      <th>Happiness Score</th>\n",
       "      <th>GDP per Capita</th>\n",
       "      <th>Family</th>\n",
       "      <th>Life Expectancy</th>\n",
       "      <th>Freedom</th>\n",
       "      <th>Generosity</th>\n",
       "      <th>Perceptions of corruption</th>\n",
       "      <th>Year</th>\n",
       "    </tr>\n",
       "  </thead>\n",
       "  <tbody>\n",
       "    <tr>\n",
       "      <th>0</th>\n",
       "      <td>Switzerland</td>\n",
       "      <td>1</td>\n",
       "      <td>7.587</td>\n",
       "      <td>1.39651</td>\n",
       "      <td>1.34951</td>\n",
       "      <td>0.94143</td>\n",
       "      <td>0.66557</td>\n",
       "      <td>0.29678</td>\n",
       "      <td>0.41978</td>\n",
       "      <td>2015</td>\n",
       "    </tr>\n",
       "    <tr>\n",
       "      <th>1</th>\n",
       "      <td>Iceland</td>\n",
       "      <td>2</td>\n",
       "      <td>7.561</td>\n",
       "      <td>1.30232</td>\n",
       "      <td>1.40223</td>\n",
       "      <td>0.94784</td>\n",
       "      <td>0.62877</td>\n",
       "      <td>0.43630</td>\n",
       "      <td>0.14145</td>\n",
       "      <td>2015</td>\n",
       "    </tr>\n",
       "    <tr>\n",
       "      <th>2</th>\n",
       "      <td>Denmark</td>\n",
       "      <td>3</td>\n",
       "      <td>7.527</td>\n",
       "      <td>1.32548</td>\n",
       "      <td>1.36058</td>\n",
       "      <td>0.87464</td>\n",
       "      <td>0.64938</td>\n",
       "      <td>0.34139</td>\n",
       "      <td>0.48357</td>\n",
       "      <td>2015</td>\n",
       "    </tr>\n",
       "    <tr>\n",
       "      <th>3</th>\n",
       "      <td>Norway</td>\n",
       "      <td>4</td>\n",
       "      <td>7.522</td>\n",
       "      <td>1.45900</td>\n",
       "      <td>1.33095</td>\n",
       "      <td>0.88521</td>\n",
       "      <td>0.66973</td>\n",
       "      <td>0.34699</td>\n",
       "      <td>0.36503</td>\n",
       "      <td>2015</td>\n",
       "    </tr>\n",
       "    <tr>\n",
       "      <th>4</th>\n",
       "      <td>Canada</td>\n",
       "      <td>5</td>\n",
       "      <td>7.427</td>\n",
       "      <td>1.32629</td>\n",
       "      <td>1.32261</td>\n",
       "      <td>0.90563</td>\n",
       "      <td>0.63297</td>\n",
       "      <td>0.45811</td>\n",
       "      <td>0.32957</td>\n",
       "      <td>2015</td>\n",
       "    </tr>\n",
       "  </tbody>\n",
       "</table>\n",
       "</div>"
      ],
      "text/plain": [
       "       Country  Happiness Rank  Happiness Score  GDP per Capita   Family  \\\n",
       "0  Switzerland               1            7.587         1.39651  1.34951   \n",
       "1      Iceland               2            7.561         1.30232  1.40223   \n",
       "2      Denmark               3            7.527         1.32548  1.36058   \n",
       "3       Norway               4            7.522         1.45900  1.33095   \n",
       "4       Canada               5            7.427         1.32629  1.32261   \n",
       "\n",
       "   Life Expectancy  Freedom  Generosity  Perceptions of corruption  Year  \n",
       "0          0.94143  0.66557     0.29678                    0.41978  2015  \n",
       "1          0.94784  0.62877     0.43630                    0.14145  2015  \n",
       "2          0.87464  0.64938     0.34139                    0.48357  2015  \n",
       "3          0.88521  0.66973     0.34699                    0.36503  2015  \n",
       "4          0.90563  0.63297     0.45811                    0.32957  2015  "
      ]
     },
     "execution_count": 11,
     "metadata": {},
     "output_type": "execute_result"
    }
   ],
   "source": [
    "df.head()"
   ]
  },
  {
   "cell_type": "code",
   "execution_count": 12,
   "metadata": {},
   "outputs": [
    {
     "data": {
      "text/plain": [
       "Country                       object\n",
       "Happiness Rank                 int64\n",
       "Happiness Score              float64\n",
       "GDP per Capita               float64\n",
       "Family                       float64\n",
       "Life Expectancy              float64\n",
       "Freedom                      float64\n",
       "Generosity                   float64\n",
       "Perceptions of corruption    float64\n",
       "Year                           int64\n",
       "dtype: object"
      ]
     },
     "execution_count": 12,
     "metadata": {},
     "output_type": "execute_result"
    }
   ],
   "source": [
    "df.dtypes"
   ]
  },
  {
   "cell_type": "code",
   "execution_count": 13,
   "metadata": {},
   "outputs": [
    {
     "data": {
      "text/plain": [
       "(781, 10)"
      ]
     },
     "execution_count": 13,
     "metadata": {},
     "output_type": "execute_result"
    }
   ],
   "source": [
    "df.shape"
   ]
  },
  {
   "cell_type": "code",
   "execution_count": 14,
   "metadata": {
    "scrolled": false
   },
   "outputs": [
    {
     "data": {
      "text/plain": [
       "2015    158\n",
       "2016    157\n",
       "2019    156\n",
       "2018    155\n",
       "2017    155\n",
       "Name: Year, dtype: int64"
      ]
     },
     "execution_count": 14,
     "metadata": {},
     "output_type": "execute_result"
    }
   ],
   "source": [
    "df['Year'].value_counts()"
   ]
  },
  {
   "cell_type": "markdown",
   "metadata": {},
   "source": [
    "## Exploratory Data Questions"
   ]
  },
  {
   "cell_type": "markdown",
   "metadata": {},
   "source": [
    "### Does Money Buy Happiness?"
   ]
  },
  {
   "cell_type": "code",
   "execution_count": 15,
   "metadata": {},
   "outputs": [],
   "source": [
    "def func(x):\n",
    "    return df[df[\"Year\"]==x]"
   ]
  },
  {
   "cell_type": "code",
   "execution_count": 16,
   "metadata": {},
   "outputs": [
    {
     "data": {
      "image/png": "[encoded data removed]",
      "text/plain": [
       "<Figure size 720x720 with 1 Axes>"
      ]
     },
     "metadata": {
      "needs_background": "light"
     },
     "output_type": "display_data"
    }
   ],
   "source": [
    "plt.figure(figsize=(10,10))\n",
    "\n",
    "\n",
    "yrs = ['2015','2016','2017','2018','2019']\n",
    "plt.scatter(x = func(2015)['Happiness Score'], y = func(2015)['GDP per Capita'],color = 'g')\n",
    "plt.scatter(x = func(2016)['Happiness Score'], y = func(2016)['GDP per Capita'],color = 'k')\n",
    "plt.scatter(x = func(2017)['Happiness Score'], y = func(2017)['GDP per Capita'],color = 'r')\n",
    "plt.scatter(x = func(2018)['Happiness Score'], y = func(2018)['GDP per Capita'],color = 'b')\n",
    "plt.scatter(x = func(2019)['Happiness Score'], y = func(2019)['GDP per Capita'],color = 'y')\n",
    "\n",
    "plt.title('Happiness Score compared to GDP per Capita', fontsize = 25)\n",
    "\n",
    "plt.xlabel('Happiness Score',fontsize= 15)\n",
    "plt.ylabel('GDP per Capita', fontsize = 15)\n",
    "\n",
    "plt.xticks(fontsize = 12)\n",
    "plt.yticks(fontsize = 12)\n",
    "plt.legend(yrs, loc='best')\n",
    "\n",
    "plt.show()"
   ]
  },
  {
   "cell_type": "markdown",
   "metadata": {},
   "source": [
    "There is a poistive upward relationship between Happiness score and GDP per Capita. As below in the correlation chart you can see they are highly correlated."
   ]
  },
  {
   "cell_type": "markdown",
   "metadata": {},
   "source": [
    "### What factors determine the ranking most year by year?"
   ]
  },
  {
   "cell_type": "code",
   "execution_count": 17,
   "metadata": {},
   "outputs": [
    {
     "data": {
      "text/html": [
       "<div>\n",
       "<style scoped>\n",
       "    .dataframe tbody tr th:only-of-type {\n",
       "        vertical-align: middle;\n",
       "    }\n",
       "\n",
       "    .dataframe tbody tr th {\n",
       "        vertical-align: top;\n",
       "    }\n",
       "\n",
       "    .dataframe thead th {\n",
       "        text-align: right;\n",
       "    }\n",
       "</style>\n",
       "<table border=\"1\" class=\"dataframe\">\n",
       "  <thead>\n",
       "    <tr style=\"text-align: right;\">\n",
       "      <th></th>\n",
       "      <th>Year</th>\n",
       "      <th>GDP per Capita</th>\n",
       "      <th>Family</th>\n",
       "      <th>Life Expectancy</th>\n",
       "      <th>Freedom</th>\n",
       "      <th>Generosity</th>\n",
       "      <th>Perceptions of corruption</th>\n",
       "    </tr>\n",
       "  </thead>\n",
       "  <tbody>\n",
       "    <tr>\n",
       "      <th>0</th>\n",
       "      <td>2015</td>\n",
       "      <td>0.846137</td>\n",
       "      <td>0.991046</td>\n",
       "      <td>0.630259</td>\n",
       "      <td>0.428615</td>\n",
       "      <td>0.237296</td>\n",
       "      <td>0.143422</td>\n",
       "    </tr>\n",
       "    <tr>\n",
       "      <th>1</th>\n",
       "      <td>2016</td>\n",
       "      <td>0.953880</td>\n",
       "      <td>0.793621</td>\n",
       "      <td>0.557619</td>\n",
       "      <td>0.370994</td>\n",
       "      <td>0.242635</td>\n",
       "      <td>0.137624</td>\n",
       "    </tr>\n",
       "    <tr>\n",
       "      <th>2</th>\n",
       "      <td>2017</td>\n",
       "      <td>0.984718</td>\n",
       "      <td>1.188898</td>\n",
       "      <td>0.551341</td>\n",
       "      <td>0.408786</td>\n",
       "      <td>0.246883</td>\n",
       "      <td>0.123120</td>\n",
       "    </tr>\n",
       "    <tr>\n",
       "      <th>3</th>\n",
       "      <td>2018</td>\n",
       "      <td>0.883677</td>\n",
       "      <td>1.216058</td>\n",
       "      <td>0.596877</td>\n",
       "      <td>0.455606</td>\n",
       "      <td>0.180974</td>\n",
       "      <td>0.112000</td>\n",
       "    </tr>\n",
       "    <tr>\n",
       "      <th>4</th>\n",
       "      <td>2019</td>\n",
       "      <td>0.905147</td>\n",
       "      <td>1.208814</td>\n",
       "      <td>0.725244</td>\n",
       "      <td>0.392571</td>\n",
       "      <td>0.184846</td>\n",
       "      <td>0.110603</td>\n",
       "    </tr>\n",
       "  </tbody>\n",
       "</table>\n",
       "</div>"
      ],
      "text/plain": [
       "   Year  GDP per Capita    Family  Life Expectancy   Freedom  Generosity  \\\n",
       "0  2015        0.846137  0.991046         0.630259  0.428615    0.237296   \n",
       "1  2016        0.953880  0.793621         0.557619  0.370994    0.242635   \n",
       "2  2017        0.984718  1.188898         0.551341  0.408786    0.246883   \n",
       "3  2018        0.883677  1.216058         0.596877  0.455606    0.180974   \n",
       "4  2019        0.905147  1.208814         0.725244  0.392571    0.184846   \n",
       "\n",
       "   Perceptions of corruption  \n",
       "0                   0.143422  \n",
       "1                   0.137624  \n",
       "2                   0.123120  \n",
       "3                   0.112000  \n",
       "4                   0.110603  "
      ]
     },
     "execution_count": 17,
     "metadata": {},
     "output_type": "execute_result"
    }
   ],
   "source": [
    "yrgrp = df.groupby(by = 'Year')[['GDP per Capita','Family','Life Expectancy','Freedom','Generosity','Perceptions of corruption']].mean().reset_index()\n",
    "yrgrp"
   ]
  },
  {
   "cell_type": "code",
   "execution_count": 18,
   "metadata": {},
   "outputs": [
    {
     "data": {
      "text/html": [
       "<div>\n",
       "<style scoped>\n",
       "    .dataframe tbody tr th:only-of-type {\n",
       "        vertical-align: middle;\n",
       "    }\n",
       "\n",
       "    .dataframe tbody tr th {\n",
       "        vertical-align: top;\n",
       "    }\n",
       "\n",
       "    .dataframe thead th {\n",
       "        text-align: right;\n",
       "    }\n",
       "</style>\n",
       "<table border=\"1\" class=\"dataframe\">\n",
       "  <thead>\n",
       "    <tr style=\"text-align: right;\">\n",
       "      <th></th>\n",
       "      <th>Year</th>\n",
       "      <th>names</th>\n",
       "      <th>values</th>\n",
       "    </tr>\n",
       "  </thead>\n",
       "  <tbody>\n",
       "    <tr>\n",
       "      <th>0</th>\n",
       "      <td>2015</td>\n",
       "      <td>GDP per Capita</td>\n",
       "      <td>0.846137</td>\n",
       "    </tr>\n",
       "    <tr>\n",
       "      <th>1</th>\n",
       "      <td>2016</td>\n",
       "      <td>GDP per Capita</td>\n",
       "      <td>0.953880</td>\n",
       "    </tr>\n",
       "    <tr>\n",
       "      <th>2</th>\n",
       "      <td>2017</td>\n",
       "      <td>GDP per Capita</td>\n",
       "      <td>0.984718</td>\n",
       "    </tr>\n",
       "    <tr>\n",
       "      <th>3</th>\n",
       "      <td>2018</td>\n",
       "      <td>GDP per Capita</td>\n",
       "      <td>0.883677</td>\n",
       "    </tr>\n",
       "    <tr>\n",
       "      <th>4</th>\n",
       "      <td>2019</td>\n",
       "      <td>GDP per Capita</td>\n",
       "      <td>0.905147</td>\n",
       "    </tr>\n",
       "    <tr>\n",
       "      <th>5</th>\n",
       "      <td>2015</td>\n",
       "      <td>Family</td>\n",
       "      <td>0.991046</td>\n",
       "    </tr>\n",
       "    <tr>\n",
       "      <th>6</th>\n",
       "      <td>2016</td>\n",
       "      <td>Family</td>\n",
       "      <td>0.793621</td>\n",
       "    </tr>\n",
       "    <tr>\n",
       "      <th>7</th>\n",
       "      <td>2017</td>\n",
       "      <td>Family</td>\n",
       "      <td>1.188898</td>\n",
       "    </tr>\n",
       "    <tr>\n",
       "      <th>8</th>\n",
       "      <td>2018</td>\n",
       "      <td>Family</td>\n",
       "      <td>1.216058</td>\n",
       "    </tr>\n",
       "    <tr>\n",
       "      <th>9</th>\n",
       "      <td>2019</td>\n",
       "      <td>Family</td>\n",
       "      <td>1.208814</td>\n",
       "    </tr>\n",
       "  </tbody>\n",
       "</table>\n",
       "</div>"
      ],
      "text/plain": [
       "   Year           names    values\n",
       "0  2015  GDP per Capita  0.846137\n",
       "1  2016  GDP per Capita  0.953880\n",
       "2  2017  GDP per Capita  0.984718\n",
       "3  2018  GDP per Capita  0.883677\n",
       "4  2019  GDP per Capita  0.905147\n",
       "5  2015          Family  0.991046\n",
       "6  2016          Family  0.793621\n",
       "7  2017          Family  1.188898\n",
       "8  2018          Family  1.216058\n",
       "9  2019          Family  1.208814"
      ]
     },
     "execution_count": 18,
     "metadata": {},
     "output_type": "execute_result"
    }
   ],
   "source": [
    "yrgrp = pd.melt(yrgrp, id_vars=['Year'], value_vars=['GDP per Capita','Family','Life Expectancy','Freedom','Generosity','Perceptions of corruption'], \n",
    "                var_name='names', value_name='values')\n",
    "yrgrp.head(10)"
   ]
  },
  {
   "cell_type": "code",
   "execution_count": 78,
   "metadata": {
    "scrolled": false
   },
   "outputs": [
    {
     "data": {
      "image/png": "[encoded data removed]",
      "text/plain": [
       "<Figure size 864x576 with 1 Axes>"
      ]
     },
     "metadata": {},
     "output_type": "display_data"
    }
   ],
   "source": [
    "plt.style.use('fivethirtyeight')\n",
    "plt.figure(figsize = (12, 8))\n",
    "\n",
    "ax = sns.barplot(x = yrgrp['Year'], y = yrgrp['values'],  hue =yrgrp['names'] )\n",
    "\n",
    "plt.title(\"Factor Diffrence by Year\", fontsize = 40)\n",
    "\n",
    "plt.ylabel(\"Average Score\", fontsize = 15)\n",
    "plt.yticks(fontsize = 15)\n",
    "\n",
    "plt.legend(fontsize = 8,loc='best')\n",
    "plt.grid('')\n",
    "plt.show()"
   ]
  },
  {
   "cell_type": "markdown",
   "metadata": {},
   "source": [
    "# Statstical Analysis"
   ]
  },
  {
   "cell_type": "code",
   "execution_count": 20,
   "metadata": {},
   "outputs": [
    {
     "data": {
      "text/html": [
       "<div>\n",
       "<style scoped>\n",
       "    .dataframe tbody tr th:only-of-type {\n",
       "        vertical-align: middle;\n",
       "    }\n",
       "\n",
       "    .dataframe tbody tr th {\n",
       "        vertical-align: top;\n",
       "    }\n",
       "\n",
       "    .dataframe thead th {\n",
       "        text-align: right;\n",
       "    }\n",
       "</style>\n",
       "<table border=\"1\" class=\"dataframe\">\n",
       "  <thead>\n",
       "    <tr style=\"text-align: right;\">\n",
       "      <th></th>\n",
       "      <th>Happiness Rank</th>\n",
       "      <th>Happiness Score</th>\n",
       "      <th>GDP per Capita</th>\n",
       "      <th>Family</th>\n",
       "      <th>Life Expectancy</th>\n",
       "      <th>Freedom</th>\n",
       "      <th>Generosity</th>\n",
       "      <th>Perceptions of corruption</th>\n",
       "      <th>Year</th>\n",
       "    </tr>\n",
       "  </thead>\n",
       "  <tbody>\n",
       "    <tr>\n",
       "      <th>count</th>\n",
       "      <td>781.000000</td>\n",
       "      <td>781.000000</td>\n",
       "      <td>781.000000</td>\n",
       "      <td>781.000000</td>\n",
       "      <td>781.000000</td>\n",
       "      <td>781.000000</td>\n",
       "      <td>781.000000</td>\n",
       "      <td>781.000000</td>\n",
       "      <td>781.000000</td>\n",
       "    </tr>\n",
       "    <tr>\n",
       "      <th>mean</th>\n",
       "      <td>78.773367</td>\n",
       "      <td>5.377232</td>\n",
       "      <td>0.914537</td>\n",
       "      <td>1.078780</td>\n",
       "      <td>0.612342</td>\n",
       "      <td>0.411254</td>\n",
       "      <td>0.218618</td>\n",
       "      <td>0.125436</td>\n",
       "      <td>2016.992318</td>\n",
       "    </tr>\n",
       "    <tr>\n",
       "      <th>std</th>\n",
       "      <td>45.162398</td>\n",
       "      <td>1.127071</td>\n",
       "      <td>0.405403</td>\n",
       "      <td>0.329581</td>\n",
       "      <td>0.248459</td>\n",
       "      <td>0.152911</td>\n",
       "      <td>0.122394</td>\n",
       "      <td>0.105816</td>\n",
       "      <td>1.417814</td>\n",
       "    </tr>\n",
       "    <tr>\n",
       "      <th>min</th>\n",
       "      <td>1.000000</td>\n",
       "      <td>2.693000</td>\n",
       "      <td>0.000000</td>\n",
       "      <td>0.000000</td>\n",
       "      <td>0.000000</td>\n",
       "      <td>0.000000</td>\n",
       "      <td>0.000000</td>\n",
       "      <td>0.000000</td>\n",
       "      <td>2015.000000</td>\n",
       "    </tr>\n",
       "    <tr>\n",
       "      <th>25%</th>\n",
       "      <td>40.000000</td>\n",
       "      <td>4.509000</td>\n",
       "      <td>0.605000</td>\n",
       "      <td>0.870210</td>\n",
       "      <td>0.440060</td>\n",
       "      <td>0.310480</td>\n",
       "      <td>0.130000</td>\n",
       "      <td>0.054000</td>\n",
       "      <td>2016.000000</td>\n",
       "    </tr>\n",
       "    <tr>\n",
       "      <th>50%</th>\n",
       "      <td>79.000000</td>\n",
       "      <td>5.321000</td>\n",
       "      <td>0.982000</td>\n",
       "      <td>1.125000</td>\n",
       "      <td>0.647239</td>\n",
       "      <td>0.431000</td>\n",
       "      <td>0.202000</td>\n",
       "      <td>0.091000</td>\n",
       "      <td>2017.000000</td>\n",
       "    </tr>\n",
       "    <tr>\n",
       "      <th>75%</th>\n",
       "      <td>118.000000</td>\n",
       "      <td>6.182000</td>\n",
       "      <td>1.233748</td>\n",
       "      <td>1.328000</td>\n",
       "      <td>0.808000</td>\n",
       "      <td>0.531000</td>\n",
       "      <td>0.279060</td>\n",
       "      <td>0.156030</td>\n",
       "      <td>2018.000000</td>\n",
       "    </tr>\n",
       "    <tr>\n",
       "      <th>max</th>\n",
       "      <td>158.000000</td>\n",
       "      <td>7.769000</td>\n",
       "      <td>1.870766</td>\n",
       "      <td>1.644000</td>\n",
       "      <td>1.141000</td>\n",
       "      <td>0.724000</td>\n",
       "      <td>0.838075</td>\n",
       "      <td>0.551910</td>\n",
       "      <td>2019.000000</td>\n",
       "    </tr>\n",
       "  </tbody>\n",
       "</table>\n",
       "</div>"
      ],
      "text/plain": [
       "       Happiness Rank  Happiness Score  GDP per Capita      Family  \\\n",
       "count      781.000000       781.000000      781.000000  781.000000   \n",
       "mean        78.773367         5.377232        0.914537    1.078780   \n",
       "std         45.162398         1.127071        0.405403    0.329581   \n",
       "min          1.000000         2.693000        0.000000    0.000000   \n",
       "25%         40.000000         4.509000        0.605000    0.870210   \n",
       "50%         79.000000         5.321000        0.982000    1.125000   \n",
       "75%        118.000000         6.182000        1.233748    1.328000   \n",
       "max        158.000000         7.769000        1.870766    1.644000   \n",
       "\n",
       "       Life Expectancy     Freedom  Generosity  Perceptions of corruption  \\\n",
       "count       781.000000  781.000000  781.000000                 781.000000   \n",
       "mean          0.612342    0.411254    0.218618                   0.125436   \n",
       "std           0.248459    0.152911    0.122394                   0.105816   \n",
       "min           0.000000    0.000000    0.000000                   0.000000   \n",
       "25%           0.440060    0.310480    0.130000                   0.054000   \n",
       "50%           0.647239    0.431000    0.202000                   0.091000   \n",
       "75%           0.808000    0.531000    0.279060                   0.156030   \n",
       "max           1.141000    0.724000    0.838075                   0.551910   \n",
       "\n",
       "              Year  \n",
       "count   781.000000  \n",
       "mean   2016.992318  \n",
       "std       1.417814  \n",
       "min    2015.000000  \n",
       "25%    2016.000000  \n",
       "50%    2017.000000  \n",
       "75%    2018.000000  \n",
       "max    2019.000000  "
      ]
     },
     "execution_count": 20,
     "metadata": {},
     "output_type": "execute_result"
    }
   ],
   "source": [
    "df.describe()"
   ]
  },
  {
   "cell_type": "code",
   "execution_count": 21,
   "metadata": {},
   "outputs": [
    {
     "data": {
      "text/html": [
       "<div>\n",
       "<style scoped>\n",
       "    .dataframe tbody tr th:only-of-type {\n",
       "        vertical-align: middle;\n",
       "    }\n",
       "\n",
       "    .dataframe tbody tr th {\n",
       "        vertical-align: top;\n",
       "    }\n",
       "\n",
       "    .dataframe thead th {\n",
       "        text-align: right;\n",
       "    }\n",
       "</style>\n",
       "<table border=\"1\" class=\"dataframe\">\n",
       "  <thead>\n",
       "    <tr style=\"text-align: right;\">\n",
       "      <th></th>\n",
       "      <th>Happiness Rank</th>\n",
       "      <th>Happiness Score</th>\n",
       "      <th>GDP per Capita</th>\n",
       "      <th>Family</th>\n",
       "      <th>Life Expectancy</th>\n",
       "      <th>Freedom</th>\n",
       "      <th>Generosity</th>\n",
       "      <th>Perceptions of corruption</th>\n",
       "      <th>Year</th>\n",
       "    </tr>\n",
       "  </thead>\n",
       "  <tbody>\n",
       "    <tr>\n",
       "      <th>Happiness Rank</th>\n",
       "      <td>1.000000</td>\n",
       "      <td>-0.992053</td>\n",
       "      <td>-0.795110</td>\n",
       "      <td>-0.647420</td>\n",
       "      <td>-0.744099</td>\n",
       "      <td>-0.540151</td>\n",
       "      <td>-0.118290</td>\n",
       "      <td>-0.372781</td>\n",
       "      <td>-0.006594</td>\n",
       "    </tr>\n",
       "    <tr>\n",
       "      <th>Happiness Score</th>\n",
       "      <td>-0.992053</td>\n",
       "      <td>1.000000</td>\n",
       "      <td>0.789719</td>\n",
       "      <td>0.651246</td>\n",
       "      <td>0.742843</td>\n",
       "      <td>0.553365</td>\n",
       "      <td>0.138142</td>\n",
       "      <td>0.398418</td>\n",
       "      <td>0.005946</td>\n",
       "    </tr>\n",
       "    <tr>\n",
       "      <th>GDP per Capita</th>\n",
       "      <td>-0.795110</td>\n",
       "      <td>0.789719</td>\n",
       "      <td>1.000000</td>\n",
       "      <td>0.592889</td>\n",
       "      <td>0.787752</td>\n",
       "      <td>0.345615</td>\n",
       "      <td>-0.013646</td>\n",
       "      <td>0.306307</td>\n",
       "      <td>0.017230</td>\n",
       "    </tr>\n",
       "    <tr>\n",
       "      <th>Family</th>\n",
       "      <td>-0.647420</td>\n",
       "      <td>0.651246</td>\n",
       "      <td>0.592889</td>\n",
       "      <td>1.000000</td>\n",
       "      <td>0.573252</td>\n",
       "      <td>0.419795</td>\n",
       "      <td>-0.037597</td>\n",
       "      <td>0.126401</td>\n",
       "      <td>0.368585</td>\n",
       "    </tr>\n",
       "    <tr>\n",
       "      <th>Life Expectancy</th>\n",
       "      <td>-0.744099</td>\n",
       "      <td>0.742843</td>\n",
       "      <td>0.787752</td>\n",
       "      <td>0.573252</td>\n",
       "      <td>1.000000</td>\n",
       "      <td>0.341155</td>\n",
       "      <td>0.010718</td>\n",
       "      <td>0.250512</td>\n",
       "      <td>0.130138</td>\n",
       "    </tr>\n",
       "    <tr>\n",
       "      <th>Freedom</th>\n",
       "      <td>-0.540151</td>\n",
       "      <td>0.553365</td>\n",
       "      <td>0.345615</td>\n",
       "      <td>0.419795</td>\n",
       "      <td>0.341155</td>\n",
       "      <td>1.000000</td>\n",
       "      <td>0.290564</td>\n",
       "      <td>0.459593</td>\n",
       "      <td>0.011118</td>\n",
       "    </tr>\n",
       "    <tr>\n",
       "      <th>Generosity</th>\n",
       "      <td>-0.118290</td>\n",
       "      <td>0.138142</td>\n",
       "      <td>-0.013646</td>\n",
       "      <td>-0.037597</td>\n",
       "      <td>0.010718</td>\n",
       "      <td>0.290564</td>\n",
       "      <td>1.000000</td>\n",
       "      <td>0.318920</td>\n",
       "      <td>-0.192416</td>\n",
       "    </tr>\n",
       "    <tr>\n",
       "      <th>Perceptions of corruption</th>\n",
       "      <td>-0.372781</td>\n",
       "      <td>0.398418</td>\n",
       "      <td>0.306307</td>\n",
       "      <td>0.126401</td>\n",
       "      <td>0.250512</td>\n",
       "      <td>0.459593</td>\n",
       "      <td>0.318920</td>\n",
       "      <td>1.000000</td>\n",
       "      <td>-0.122264</td>\n",
       "    </tr>\n",
       "    <tr>\n",
       "      <th>Year</th>\n",
       "      <td>-0.006594</td>\n",
       "      <td>0.005946</td>\n",
       "      <td>0.017230</td>\n",
       "      <td>0.368585</td>\n",
       "      <td>0.130138</td>\n",
       "      <td>0.011118</td>\n",
       "      <td>-0.192416</td>\n",
       "      <td>-0.122264</td>\n",
       "      <td>1.000000</td>\n",
       "    </tr>\n",
       "  </tbody>\n",
       "</table>\n",
       "</div>"
      ],
      "text/plain": [
       "                           Happiness Rank  Happiness Score  GDP per Capita  \\\n",
       "Happiness Rank                   1.000000        -0.992053       -0.795110   \n",
       "Happiness Score                 -0.992053         1.000000        0.789719   \n",
       "GDP per Capita                  -0.795110         0.789719        1.000000   \n",
       "Family                          -0.647420         0.651246        0.592889   \n",
       "Life Expectancy                 -0.744099         0.742843        0.787752   \n",
       "Freedom                         -0.540151         0.553365        0.345615   \n",
       "Generosity                      -0.118290         0.138142       -0.013646   \n",
       "Perceptions of corruption       -0.372781         0.398418        0.306307   \n",
       "Year                            -0.006594         0.005946        0.017230   \n",
       "\n",
       "                             Family  Life Expectancy   Freedom  Generosity  \\\n",
       "Happiness Rank            -0.647420        -0.744099 -0.540151   -0.118290   \n",
       "Happiness Score            0.651246         0.742843  0.553365    0.138142   \n",
       "GDP per Capita             0.592889         0.787752  0.345615   -0.013646   \n",
       "Family                     1.000000         0.573252  0.419795   -0.037597   \n",
       "Life Expectancy            0.573252         1.000000  0.341155    0.010718   \n",
       "Freedom                    0.419795         0.341155  1.000000    0.290564   \n",
       "Generosity                -0.037597         0.010718  0.290564    1.000000   \n",
       "Perceptions of corruption  0.126401         0.250512  0.459593    0.318920   \n",
       "Year                       0.368585         0.130138  0.011118   -0.192416   \n",
       "\n",
       "                           Perceptions of corruption      Year  \n",
       "Happiness Rank                             -0.372781 -0.006594  \n",
       "Happiness Score                             0.398418  0.005946  \n",
       "GDP per Capita                              0.306307  0.017230  \n",
       "Family                                      0.126401  0.368585  \n",
       "Life Expectancy                             0.250512  0.130138  \n",
       "Freedom                                     0.459593  0.011118  \n",
       "Generosity                                  0.318920 -0.192416  \n",
       "Perceptions of corruption                   1.000000 -0.122264  \n",
       "Year                                       -0.122264  1.000000  "
      ]
     },
     "execution_count": 21,
     "metadata": {},
     "output_type": "execute_result"
    }
   ],
   "source": [
    "df.corr()"
   ]
  },
  {
   "cell_type": "code",
   "execution_count": 22,
   "metadata": {
    "scrolled": false
   },
   "outputs": [
    {
     "data": {
      "text/plain": [
       "[]"
      ]
     },
     "execution_count": 22,
     "metadata": {},
     "output_type": "execute_result"
    },
    {
     "data": {
      "image/png": "[encoded data removed]",
      "text/plain": [
       "<Figure size 432x288 with 2 Axes>"
      ]
     },
     "metadata": {},
     "output_type": "display_data"
    }
   ],
   "source": [
    "sns.heatmap(df.corr(), annot=True)\n",
    "plt.plot()"
   ]
  },
  {
   "cell_type": "markdown",
   "metadata": {},
   "source": [
    "## What factor has the greatest magnitude in effecting the Happiness Score?"
   ]
  },
  {
   "cell_type": "markdown",
   "metadata": {},
   "source": [
    "### Regression Analysis"
   ]
  },
  {
   "cell_type": "code",
   "execution_count": 23,
   "metadata": {},
   "outputs": [],
   "source": [
    "df.drop(columns = ['Happiness Rank','Country','Year'], inplace=True)"
   ]
  },
  {
   "cell_type": "markdown",
   "metadata": {},
   "source": [
    "###### Getting rid of outliers using z-score method"
   ]
  },
  {
   "cell_type": "code",
   "execution_count": 24,
   "metadata": {
    "scrolled": true
   },
   "outputs": [
    {
     "name": "stdout",
     "output_type": "stream",
     "text": [
      "[[1.96188502 1.18963704 0.82196314 ... 1.66423654 0.63902488 2.78343315]\n",
      " [1.9388016  0.95715133 0.9820261  ... 1.42341883 1.77968454 0.15143817]\n",
      " [1.90861559 1.01431631 0.85557272 ... 1.55828983 1.00373838 3.3866558 ]\n",
      " ...\n",
      " [1.93033488 1.39342504 1.70561673 ... 2.69122663 0.49558484 0.9497576 ]\n",
      " [2.03687374 2.1931423  3.2752781  ... 1.21883573 0.13393634 0.85519377]\n",
      " [2.24107323 1.50202862 1.52952319 ... 2.62578703 0.13585845 0.32563634]]\n"
     ]
    }
   ],
   "source": [
    "new_df = df.iloc[:,0:9]\n",
    "\n",
    "from scipy import stats\n",
    "z = np.abs(stats.zscore(new_df))\n",
    "print(z)"
   ]
  },
  {
   "cell_type": "code",
   "execution_count": 25,
   "metadata": {},
   "outputs": [
    {
     "data": {
      "text/plain": [
       "(array([  2,  23,  27, 128, 147, 153, 158, 179, 190, 193, 276, 309, 312,\n",
       "        340, 395, 428, 465, 469, 502, 598, 619, 623, 658, 779], dtype=int64),\n",
       " array([6, 6, 6, 5, 2, 6, 6, 6, 5, 6, 5, 6, 2, 6, 5, 5, 6, 2, 6, 5, 6, 2,\n",
       "        6, 2], dtype=int64))"
      ]
     },
     "execution_count": 25,
     "metadata": {},
     "output_type": "execute_result"
    }
   ],
   "source": [
    "threshold = 3\n",
    "np.where(z > 3)"
   ]
  },
  {
   "cell_type": "code",
   "execution_count": 26,
   "metadata": {},
   "outputs": [],
   "source": [
    "new_df = new_df[(z < 3).all(axis=1)]"
   ]
  },
  {
   "cell_type": "markdown",
   "metadata": {},
   "source": [
    "###### Assigning X & Y values"
   ]
  },
  {
   "cell_type": "code",
   "execution_count": 31,
   "metadata": {},
   "outputs": [],
   "source": [
    "X = new_df.iloc[:,1:9]\n",
    "y = new_df['Happiness Score']"
   ]
  },
  {
   "cell_type": "code",
   "execution_count": 63,
   "metadata": {
    "scrolled": true
   },
   "outputs": [],
   "source": [
    "from sklearn.model_selection import train_test_split\n",
    "X_train, X_test, y_train, y_test = train_test_split(X, y, test_size=0.3, random_state=0)"
   ]
  },
  {
   "cell_type": "code",
   "execution_count": 64,
   "metadata": {},
   "outputs": [
    {
     "data": {
      "text/plain": [
       "LinearRegression()"
      ]
     },
     "execution_count": 64,
     "metadata": {},
     "output_type": "execute_result"
    }
   ],
   "source": [
    "from sklearn.linear_model import LinearRegression\n",
    "model = LinearRegression()\n",
    "model.fit(X_train,y_train)"
   ]
  },
  {
   "cell_type": "code",
   "execution_count": 65,
   "metadata": {},
   "outputs": [
    {
     "name": "stdout",
     "output_type": "stream",
     "text": [
      "(529, 6)\n",
      "(228, 6)\n",
      "(529,)\n",
      "(228,)\n"
     ]
    }
   ],
   "source": [
    "print(X_train.shape)\n",
    "print(X_test.shape)\n",
    "print(y_train.shape)\n",
    "print(y_test.shape)"
   ]
  },
  {
   "cell_type": "code",
   "execution_count": 66,
   "metadata": {
    "scrolled": true
   },
   "outputs": [
    {
     "name": "stdout",
     "output_type": "stream",
     "text": [
      "2.1013889612305148\n"
     ]
    }
   ],
   "source": [
    "#Calculating the intercept\n",
    "print(model.intercept_)"
   ]
  },
  {
   "cell_type": "code",
   "execution_count": 67,
   "metadata": {},
   "outputs": [
    {
     "data": {
      "text/html": [
       "<div>\n",
       "<style scoped>\n",
       "    .dataframe tbody tr th:only-of-type {\n",
       "        vertical-align: middle;\n",
       "    }\n",
       "\n",
       "    .dataframe tbody tr th {\n",
       "        vertical-align: top;\n",
       "    }\n",
       "\n",
       "    .dataframe thead th {\n",
       "        text-align: right;\n",
       "    }\n",
       "</style>\n",
       "<table border=\"1\" class=\"dataframe\">\n",
       "  <thead>\n",
       "    <tr style=\"text-align: right;\">\n",
       "      <th></th>\n",
       "      <th>Coefficient</th>\n",
       "    </tr>\n",
       "  </thead>\n",
       "  <tbody>\n",
       "    <tr>\n",
       "      <th>GDP per Capita</th>\n",
       "      <td>1.001025</td>\n",
       "    </tr>\n",
       "    <tr>\n",
       "      <th>Family</th>\n",
       "      <td>0.672927</td>\n",
       "    </tr>\n",
       "    <tr>\n",
       "      <th>Life Expectancy</th>\n",
       "      <td>1.145641</td>\n",
       "    </tr>\n",
       "    <tr>\n",
       "      <th>Freedom</th>\n",
       "      <td>1.476127</td>\n",
       "    </tr>\n",
       "    <tr>\n",
       "      <th>Generosity</th>\n",
       "      <td>0.725380</td>\n",
       "    </tr>\n",
       "    <tr>\n",
       "      <th>Perceptions of corruption</th>\n",
       "      <td>1.456822</td>\n",
       "    </tr>\n",
       "  </tbody>\n",
       "</table>\n",
       "</div>"
      ],
      "text/plain": [
       "                           Coefficient\n",
       "GDP per Capita                1.001025\n",
       "Family                        0.672927\n",
       "Life Expectancy               1.145641\n",
       "Freedom                       1.476127\n",
       "Generosity                    0.725380\n",
       "Perceptions of corruption     1.456822"
      ]
     },
     "execution_count": 67,
     "metadata": {},
     "output_type": "execute_result"
    }
   ],
   "source": [
    "#Calculating the coefficients\n",
    "coeff_parameter = pd.DataFrame(model.coef_,X.columns,columns=['Coefficient'])\n",
    "coeff_parameter"
   ]
  },
  {
   "cell_type": "code",
   "execution_count": 68,
   "metadata": {},
   "outputs": [],
   "source": [
    "predictions = model.predict(X_test)"
   ]
  },
  {
   "cell_type": "code",
   "execution_count": 69,
   "metadata": {},
   "outputs": [
    {
     "data": {
      "image/png": "[encoded data removed]",
      "text/plain": [
       "<Figure size 432x288 with 1 Axes>"
      ]
     },
     "metadata": {},
     "output_type": "display_data"
    }
   ],
   "source": [
    "sns.regplot(y_test,predictions)\n",
    "plt.show()"
   ]
  },
  {
   "cell_type": "markdown",
   "metadata": {},
   "source": [
    "Low hetroskedasticity in the scatterplot"
   ]
  },
  {
   "cell_type": "code",
   "execution_count": 70,
   "metadata": {},
   "outputs": [
    {
     "name": "stdout",
     "output_type": "stream",
     "text": [
      "                            OLS Regression Results                            \n",
      "==============================================================================\n",
      "Dep. Variable:        Happiness Score   R-squared:                       0.765\n",
      "Model:                            OLS   Adj. R-squared:                  0.762\n",
      "Method:                 Least Squares   F-statistic:                     283.2\n",
      "Date:                Tue, 15 Dec 2020   Prob (F-statistic):          1.47e-160\n",
      "Time:                        09:26:11   Log-Likelihood:                -421.43\n",
      "No. Observations:                 529   AIC:                             856.9\n",
      "Df Residuals:                     522   BIC:                             886.8\n",
      "Df Model:                           6                                         \n",
      "Covariance Type:            nonrobust                                         \n",
      "=============================================================================================\n",
      "                                coef    std err          t      P>|t|      [0.025      0.975]\n",
      "---------------------------------------------------------------------------------------------\n",
      "const                         2.1014      0.098     21.378      0.000       1.908       2.294\n",
      "GDP per Capita                1.0010      0.102      9.792      0.000       0.800       1.202\n",
      "Family                        0.6729      0.099      6.799      0.000       0.478       0.867\n",
      "Life Expectancy               1.1456      0.157      7.309      0.000       0.838       1.454\n",
      "Freedom                       1.4761      0.195      7.584      0.000       1.094       1.858\n",
      "Generosity                    0.7254      0.219      3.316      0.001       0.296       1.155\n",
      "Perceptions of corruption     1.4568      0.295      4.937      0.000       0.877       2.036\n",
      "==============================================================================\n",
      "Omnibus:                       11.522   Durbin-Watson:                   1.911\n",
      "Prob(Omnibus):                  0.003   Jarque-Bera (JB):               13.702\n",
      "Skew:                          -0.255   Prob(JB):                      0.00106\n",
      "Kurtosis:                       3.601   Cond. No.                         26.1\n",
      "==============================================================================\n",
      "\n",
      "Warnings:\n",
      "[1] Standard Errors assume that the covariance matrix of the errors is correctly specified.\n"
     ]
    }
   ],
   "source": [
    "import statsmodels.api as sm\n",
    "X_train_Sm= sm.add_constant(X_train)\n",
    "X_train_Sm= sm.add_constant(X_train)\n",
    "ls=sm.OLS(y_train,X_train_Sm).fit()\n",
    "print(ls.summary())"
   ]
  },
  {
   "cell_type": "markdown",
   "metadata": {},
   "source": [
    "Interpretation:\n",
    "\n",
    "The multiple linear regression model is showing the coefficient P-values are all statistically significant. The positive coefficients indicate that as the predictor variable increases, the happiness score variable also increases. For a one unit change in Freedom coefficient, the happiness score increased 1.4761 units holding all other factors constant.For a one unit change in the Perceptions of corruption score, the happiness score increased by 1.4568 holding all other factors constant. "
   ]
  }
 ],
 "metadata": {
  "kernelspec": {
   "display_name": "Python 3",
   "language": "python",
   "name": "python3"
  },
  "language_info": {
   "codemirror_mode": {
    "name": "ipython",
    "version": 3
   },
   "file_extension": ".py",
   "mimetype": "text/x-python",
   "name": "python",
   "nbconvert_exporter": "python",
   "pygments_lexer": "ipython3",
   "version": "3.8.3"
  }
 },
 "nbformat": 4,
 "nbformat_minor": 4
}
